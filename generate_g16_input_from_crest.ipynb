{
 "cells": [
  {
   "cell_type": "code",
   "execution_count": 142,
   "id": "19437c55",
   "metadata": {},
   "outputs": [],
   "source": [
    "import numpy as np\n",
    "import re\n",
    "import os"
   ]
  },
  {
   "cell_type": "code",
   "execution_count": 143,
   "id": "b524082c",
   "metadata": {},
   "outputs": [],
   "source": [
    "def get_str_from_crest_out(crest_output_file):\n",
    "    \"\"\"\n",
    "    Get atom lines from crest output file name as 'crest_conformers.xyz' or .xyz files name as 'str{i}.xyz'\n",
    "    \"\"\"\n",
    "    coord = []\n",
    "    with open(crest_output_file, 'r') as s:\n",
    "        for line in s:\n",
    "            if re.match(r'\\s[A-Z]', line):\n",
    "                coord.append(line)\n",
    "    return coord"
   ]
  },
  {
   "cell_type": "code",
   "execution_count": 144,
   "id": "1b9fc322",
   "metadata": {},
   "outputs": [],
   "source": [
    "def get_atoms_number(crest_output_file):\n",
    "    \"\"\"\n",
    "    Get number of atoms in .xyz files\n",
    "    \"\"\"\n",
    "    with open(crest_output_file, 'r') as s:\n",
    "        atoms_number = int(s.readline().strip('\\n'))\n",
    "    return atoms_number"
   ]
  },
  {
   "cell_type": "code",
   "execution_count": 145,
   "id": "9d00ce6f",
   "metadata": {},
   "outputs": [],
   "source": [
    "# crest_conformers.xyz file must be present in the directory\n",
    "coord = get_str_from_crest_out('crest_conformers.xyz')\n",
    "atoms_number = get_atoms_number('crest_conformers.xyz')\n",
    "number_of_str = int(len(coord) / atoms_number)\n",
    "\n",
    "data_path = os.getcwd()\n",
    "str_list = []\n",
    "for file in os.listdir(data_path):\n",
    "    if file.startswith(\"str\"):\n",
    "        if file.endswith(\".xyz\"):\n",
    "            str_list.append(file)\n",
    "\n",
    "# If want to loop over all structure in crest_conformers.xyz\n",
    "for str_n in range(1, number_of_str + 1):\n",
    "\n",
    "# If want to loop over certain structure in str_list with .xyz format\n",
    "#for i in str_list:\n",
    "#    coord = get_str_from_crest_out(i)\n",
    "#    str_n = re.search(r'\\d+', i).group(0)\n",
    "    \n",
    "# Gaussian input lines\n",
    "    with open('Li+12crown4_b3lyp-6311+Gdp_optfreq_str{}.com'.format(str_n), 'w') as f:\n",
    "        f.write('%mem=32GB\\n'\n",
    "                '%nprocshared=32\\n'\n",
    "                '%chk=Li+12crown4_b3lyp-6311+Gdp_optfreq_str' + str(str_n) +'.chk\\n'\n",
    "                '#p opt=tight freq b3lyp/6-311+G(d,p) empiricaldispersion=gd3bj\\n\\n'\n",
    "\n",
    "                '12C4-Li+ opt freq\\n\\n'\n",
    "\n",
    "                '1 1\\n'\n",
    "               )\n",
    "        for atom in range(atoms_number):\n",
    "            f.write(coord[atom])\n",
    "        f.write('\\n')"
   ]
  },
  {
   "cell_type": "code",
   "execution_count": null,
   "id": "90a90bc6",
   "metadata": {},
   "outputs": [],
   "source": []
  }
 ],
 "metadata": {
  "kernelspec": {
   "display_name": "Python 3 (ipykernel)",
   "language": "python",
   "name": "python3"
  },
  "language_info": {
   "codemirror_mode": {
    "name": "ipython",
    "version": 3
   },
   "file_extension": ".py",
   "mimetype": "text/x-python",
   "name": "python",
   "nbconvert_exporter": "python",
   "pygments_lexer": "ipython3",
   "version": "3.8.10"
  }
 },
 "nbformat": 4,
 "nbformat_minor": 5
}
